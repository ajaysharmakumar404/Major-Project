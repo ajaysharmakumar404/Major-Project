{
 "cells": [
  {
   "cell_type": "code",
   "execution_count": null,
   "id": "9b1a67e7",
   "metadata": {},
   "outputs": [
    {
     "name": "stdout",
     "output_type": "stream",
     "text": [
      "Merged Shape: (5658770, 79)\n"
     ]
    }
   ],
   "source": [
    "import os\n",
    "import pandas as pd\n",
    "\n",
    "def load_all_csvs(folder_path):\n",
    "    all_dataframes = []\n",
    "    for filename in os.listdir(folder_path):\n",
    "        if filename.endswith(\".csv\"):\n",
    "            df = pd.read_csv(os.path.join(folder_path, filename), low_memory=False)\n",
    "            all_dataframes.append(df)\n",
    "    return pd.concat(all_dataframes, ignore_index=True)\n",
    "\n",
    "# Replace these paths with your local paths\n",
    "cicids2017_path = \"C:/Users/GPU RTX 5000/Desktop/Major Project Dataset/major/major_merge/cicids2017_dataset\"\n",
    "cicids2018_path = \"C:/Users/GPU RTX 5000/Desktop/Major Project Dataset/major/major_merge/cicids2018_dataset\"\n",
    "\n",
    "df_2017 = load_all_csvs(cicids2017_path)\n",
    "df_2018 = load_all_csvs(cicids2018_path)\n",
    "\n",
    "df_merged = pd.concat([df_2017, df_2018], ignore_index=True)\n",
    "df_merged.dropna(inplace=True)\n",
    "df_merged.reset_index(drop=True, inplace=True)\n",
    "\n",
    "print(\"Merged Shape:\", df_merged.shape)\n",
    "\n"
   ]
  },
  {
   "cell_type": "code",
   "execution_count": 2,
   "id": "648cc9bd",
   "metadata": {},
   "outputs": [
    {
     "name": "stdout",
     "output_type": "stream",
     "text": [
      "Columns after fuzzy deduplication: 56\n"
     ]
    }
   ],
   "source": [
    "from rapidfuzz import fuzz\n",
    "\n",
    "def fuzzy_deduplicate_columns(df, threshold=90):\n",
    "    columns = list(df.columns)\n",
    "    to_drop = set()\n",
    "    for i in range(len(columns)):\n",
    "        for j in range(i + 1, len(columns)):\n",
    "            if fuzz.ratio(columns[i].lower(), columns[j].lower()) > threshold:\n",
    "                to_drop.add(columns[j])\n",
    "    df = df.drop(columns=list(to_drop), errors='ignore')\n",
    "    return df\n",
    "\n",
    "df_merged = fuzzy_deduplicate_columns(df_merged)\n",
    "print(\"Columns after fuzzy deduplication:\", len(df_merged.columns))\n"
   ]
  },
  {
   "cell_type": "code",
   "execution_count": 3,
   "id": "fe3d3edf",
   "metadata": {},
   "outputs": [
    {
     "name": "stdout",
     "output_type": "stream",
     "text": [
      "Merged dataset saved to CICIDS2017_2018_Merged.csv\n"
     ]
    }
   ],
   "source": [
    "# Save merged dataset to a CSV file\n",
    "output_path = \"CICIDS2017_2018_Merged.csv\"\n",
    "df_merged.to_csv(output_path, index=False)\n",
    "print(f\"Merged dataset saved to {output_path}\")\n"
   ]
  }
 ],
 "metadata": {
  "kernelspec": {
   "display_name": "myvenv",
   "language": "python",
   "name": "python3"
  },
  "language_info": {
   "codemirror_mode": {
    "name": "ipython",
    "version": 3
   },
   "file_extension": ".py",
   "mimetype": "text/x-python",
   "name": "python",
   "nbconvert_exporter": "python",
   "pygments_lexer": "ipython3",
   "version": "3.10.11"
  }
 },
 "nbformat": 4,
 "nbformat_minor": 5
}

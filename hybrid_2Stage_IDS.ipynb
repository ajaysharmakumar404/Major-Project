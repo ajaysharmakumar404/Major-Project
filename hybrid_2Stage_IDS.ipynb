{
 "cells": [
  {
   "cell_type": "code",
   "execution_count": 1,
   "id": "4bacdf48",
   "metadata": {},
   "outputs": [
    {
     "name": "stderr",
     "output_type": "stream",
     "text": [
      "C:\\Users\\GPU RTX 5000\\AppData\\Local\\Temp\\ipykernel_13444\\3700085028.py:21: DtypeWarning: Columns (0,1,2,3,4,5,6,7,8,9,10,11,12,13,14,15,16,17,18,19,20,21,22,23,24,25,26,27,28,29,30,31,32,33,34,35,36,37,38,39,40,41,42,43,44,45,46,47,48,49) have mixed types. Specify dtype option on import or set low_memory=False.\n",
      "  df = pd.read_csv(\"CICIDS2017_2018_Merged_Fuzzy.csv\")\n"
     ]
    }
   ],
   "source": [
    "# --- Stage 1: Data Loading, Cleaning, and Merging ---\n",
    "\n",
    "import pandas as pd\n",
    "import numpy as np\n",
    "import glob\n",
    "import os\n",
    "import re\n",
    "import unicodedata\n",
    "from rapidfuzz import process, fuzz\n",
    "from sklearn.preprocessing import LabelEncoder, MinMaxScaler\n",
    "from sklearn.ensemble import RandomForestClassifier\n",
    "from sklearn.model_selection import train_test_split\n",
    "from sklearn.metrics import classification_report, confusion_matrix\n",
    "import xgboost as xgb\n",
    "from tensorflow.keras.models import Sequential\n",
    "from tensorflow.keras.layers import LSTM, Dense, Dropout\n",
    "from tensorflow.keras.utils import to_categorical\n",
    "import joblib\n",
    "\n",
    "# Load pre-merged dataset\n",
    "df = pd.read_csv(\"CICIDS2017_2018_Merged_Fuzzy.csv\")\n",
    "\n",
    "# Clean label column again in case needed\n",
    "def clean_label(label):\n",
    "    if not isinstance(label, str):\n",
    "        return 'Attack'\n",
    "    label = label.strip().lower()\n",
    "    label = unicodedata.normalize(\"NFKD\", label).encode(\"ascii\", \"ignore\").decode()\n",
    "    label = re.sub(r\"[^a-zA-Z0-9_]\", \"_\", label)\n",
    "    return label.replace(\"__\", \"_\")\n",
    "\n",
    "df['Label'] = df['Label'].apply(clean_label)\n",
    "df['BinaryLabel'] = df['Label'].apply(lambda x: 'Benign' if 'benign' in x else 'Malicious')"
   ]
  },
  {
   "cell_type": "code",
   "execution_count": null,
   "id": "91dc3733",
   "metadata": {},
   "outputs": [],
   "source": [
    "# --- Stage 1: Binary Classification ---\n",
    "\n",
    "# Drop target columns\n",
    "X = df.drop(columns=['Label', 'BinaryLabel'])\n",
    "\n",
    "# Convert to numeric\n",
    "X = X.apply(pd.to_numeric, errors='coerce')\n",
    "\n",
    "# Replace inf/-inf with NaN\n",
    "X.replace([np.inf, -np.inf], np.nan, inplace=True)\n",
    "\n",
    "# Drop rows with any NaN (including previously inf)\n",
    "X = X.dropna()\n",
    "\n",
    "# Now define the binary target aligned with the cleaned X\n",
    "y_binary = df.loc[X.index, 'BinaryLabel']\n",
    "\n",
    "# Encode labels\n",
    "le_bin = LabelEncoder()\n",
    "y_binary_encoded = le_bin.fit_transform(y_binary)\n",
    "\n",
    "# Feature selection with Random Forest\n",
    "rf_bin = RandomForestClassifier(n_estimators=100, random_state=42)\n",
    "rf_bin.fit(X, y_binary_encoded)\n",
    "\n",
    "# Select top 40 features\n",
    "feat_imp_bin = pd.Series(rf_bin.feature_importances_, index=X.columns)\n",
    "top_features_bin = feat_imp_bin.sort_values(ascending=False).head(40).index.tolist()\n",
    "\n",
    "# Use top features\n",
    "X_stage1 = X[top_features_bin]\n",
    "\n"
   ]
  },
  {
   "cell_type": "code",
   "execution_count": null,
   "id": "2c46bf70",
   "metadata": {},
   "outputs": [],
   "source": [
    "import matplotlib.pyplot as plt\n",
    "import seaborn as sns\n",
    "\n",
    "# Plot top 40 feature importances\n",
    "plt.figure(figsize=(12, 10))\n",
    "sns.barplot(\n",
    "    x=feat_imp_bin[top_features_bin].values,\n",
    "    y=top_features_bin,\n",
    "    palette='viridis'\n",
    ")\n",
    "plt.title('Top 40 Features by Random Forest Importance (Stage 1)', fontsize=16)\n",
    "plt.xlabel('Importance Score')\n",
    "plt.ylabel('Features')\n",
    "plt.tight_layout()\n",
    "plt.show()\n"
   ]
  }
 ],
 "metadata": {
  "kernelspec": {
   "display_name": "myvenv",
   "language": "python",
   "name": "python3"
  },
  "language_info": {
   "codemirror_mode": {
    "name": "ipython",
    "version": 3
   },
   "file_extension": ".py",
   "mimetype": "text/x-python",
   "name": "python",
   "nbconvert_exporter": "python",
   "pygments_lexer": "ipython3",
   "version": "3.10.11"
  }
 },
 "nbformat": 4,
 "nbformat_minor": 5
}
